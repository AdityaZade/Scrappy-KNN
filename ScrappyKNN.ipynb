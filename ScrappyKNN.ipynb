{
  "nbformat": 4,
  "nbformat_minor": 0,
  "metadata": {
    "colab": {
      "name": "ScrappyKNN",
      "provenance": [],
      "authorship_tag": "ABX9TyMC9hjUn8NwL1kbVjoUkByD",
      "include_colab_link": true
    },
    "kernelspec": {
      "name": "python3",
      "display_name": "Python 3"
    }
  },
  "cells": [
    {
      "cell_type": "markdown",
      "metadata": {
        "id": "view-in-github",
        "colab_type": "text"
      },
      "source": [
        "<a href=\"https://colab.research.google.com/github/AdityaZade/Scrappy-KNN/blob/master/ScrappyKNN.ipynb\" target=\"_parent\"><img src=\"https://colab.research.google.com/assets/colab-badge.svg\" alt=\"Open In Colab\"/></a>"
      ]
    },
    {
      "cell_type": "code",
      "metadata": {
        "id": "chw6zEaUbCcG",
        "colab_type": "code",
        "colab": {}
      },
      "source": [
        "from scipy.spatial import distance\n",
        "\n",
        "def euc(a,b):\n",
        "  return distance.euclidean(a,b)\n",
        "\n",
        "class ScrapyKNN:\n",
        "   def fit(self,X_train,y_train):\n",
        "     self.X_train=X_train\n",
        "     self.y_train=y_train\n",
        "\n",
        "   def predict(self,X_test):\n",
        "     predictions=[]\n",
        "     for row in X_test:\n",
        "        label=self.closest(row)\n",
        "        predictions.append(label)\n",
        "     return predictions\n",
        "\n",
        "   def closest(self,row):\n",
        "     best_dist=euc(row,self.X_train[0])\n",
        "     best_index=0\n",
        "     for i in range(1,len(self.X_train)):\n",
        "        dist=euc(row,self.X_train[i])\n",
        "        if dist < best_dist:\n",
        "           best_dist=dist\n",
        "           best_index=i\n",
        "        return self.y_train[best_index]\n",
        "\n"
      ],
      "execution_count": 9,
      "outputs": []
    },
    {
      "cell_type": "code",
      "metadata": {
        "id": "-pZTjiF0dyrp",
        "colab_type": "code",
        "colab": {
          "base_uri": "https://localhost:8080/",
          "height": 35
        },
        "outputId": "63e1d516-af58-4d20-e5da-6ef7e1df59ba"
      },
      "source": [
        "from sklearn import datasets\n",
        "from sklearn import tree\n",
        "\n",
        "\n",
        "\n",
        "#Step 1: Loading dataset\n",
        "iris=datasets.load_iris()\n",
        "\n",
        "\n",
        "X=iris.data #features\n",
        "y=iris.target#labels\n",
        "\n",
        "\n",
        "\n",
        "#Step 2: splitting the dataset into train and test data\n",
        "from sklearn.model_selection import train_test_split\n",
        "\n",
        "train_X,test_X,train_y,test_y=train_test_split(X,y,test_size=0.5)\n",
        "\n",
        "\n",
        "\n",
        "#Step 3: Selecting the ScrappyKnn model and training it \n",
        "my_classifier=ScrapyKNN()\n",
        "\n",
        "my_classifier.fit(train_X,train_y)\n",
        "\n",
        "\n",
        "\n",
        "\n",
        "#step 4 :Making prediction\n",
        "\n",
        "predictions=my_classifier.predict(test_X)\n",
        "\n",
        "\n",
        "#Step 5: Checking accuracy of model\n",
        "\n",
        "from sklearn.metrics import accuracy_score\n",
        "accuracy=accuracy_score(test_y,predictions)\n",
        "print(accuracy*100)\n",
        "\n"
      ],
      "execution_count": 10,
      "outputs": [
        {
          "output_type": "stream",
          "text": [
            "72.0\n"
          ],
          "name": "stdout"
        }
      ]
    },
    {
      "cell_type": "code",
      "metadata": {
        "id": "Y33PLM-9fA6N",
        "colab_type": "code",
        "colab": {}
      },
      "source": [
        ""
      ],
      "execution_count": null,
      "outputs": []
    }
  ]
}